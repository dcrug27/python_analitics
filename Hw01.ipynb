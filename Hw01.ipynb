{
  "nbformat": 4,
  "nbformat_minor": 0,
  "metadata": {
    "colab": {
      "provenance": [],
      "toc_visible": true
    },
    "kernelspec": {
      "name": "python3",
      "display_name": "Python 3"
    },
    "language_info": {
      "name": "python"
    }
  },
  "cells": [
    {
      "cell_type": "markdown",
      "source": [
        "#Задача 1\n",
        "Оформляйте ноутбук, используя эти советы:\n",
        "\n",
        "Номер задачи - ## заголовок2\n",
        "\n",
        "Номер подзадачи - ### заголовок 3\n",
        "\n",
        "Предоставленные наборы данных оформляйте, как код\n",
        "\n",
        "#Задача 2\n",
        "На складе лежат разные фрукты в разном количестве. Нужно написать функцию, которая на вход принимает любое количество названий фруктов и их количество, а возвращает общее количество фруктов на складе"
      ],
      "metadata": {
        "id": "M7b7AUQVRy71"
      }
    },
    {
      "cell_type": "code",
      "source": [
        "def fructus(**kwargs):\n",
        "\n",
        "    total_fructus = sum(kwargs.values())\n",
        "\n",
        "    return f'Total fructus: {total_fructus}'"
      ],
      "metadata": {
        "id": "9taddJglSCBI"
      },
      "execution_count": 1,
      "outputs": []
    },
    {
      "cell_type": "code",
      "source": [
        "print(print(fructus(apples=26, pears=18, bananas=41)))"
      ],
      "metadata": {
        "colab": {
          "base_uri": "https://localhost:8080/"
        },
        "id": "SK34K_JiSIaE",
        "outputId": "8390818c-fa92-4d6d-f92a-17e8fcc66320"
      },
      "execution_count": 2,
      "outputs": [
        {
          "output_type": "stream",
          "name": "stdout",
          "text": [
            "Total fructus: 85\n",
            "None\n"
          ]
        }
      ]
    },
    {
      "cell_type": "markdown",
      "source": [
        "#Задача 3\n",
        "Дан список с затратами на рекламу. Но в данных есть ошибки, некоторые затраты имеют отрицательную величину. Удалите такие значения из списка и посчитайте суммарные затраты"
      ],
      "metadata": {
        "id": "MyZryUlMSLv3"
      }
    },
    {
      "cell_type": "code",
      "source": [
        "[100, 125, -90, 345, 655, -1, 0, 200]"
      ],
      "metadata": {
        "colab": {
          "base_uri": "https://localhost:8080/"
        },
        "id": "l2ZjyK6LSQDs",
        "outputId": "5065812d-f10a-4354-dbae-de03793b7eab"
      },
      "execution_count": 3,
      "outputs": [
        {
          "output_type": "execute_result",
          "data": {
            "text/plain": [
              "[100, 125, -90, 345, 655, -1, 0, 200]"
            ]
          },
          "metadata": {},
          "execution_count": 3
        }
      ]
    },
    {
      "cell_type": "code",
      "source": [
        "def expenses(data: list):\n",
        "\n",
        "    new_data = []\n",
        "\n",
        "    for i in data:\n",
        "        if i > 0:\n",
        "            new_data.append(i)\n",
        "\n",
        "    print(new_data)\n",
        "    print(f'Total expenses: {sum(new_data)}')"
      ],
      "metadata": {
        "id": "OeXu4T99ST7Q"
      },
      "execution_count": 4,
      "outputs": []
    },
    {
      "cell_type": "code",
      "source": [
        "data = [100, 125, -90, 345, 655, -1, 0, 200]\n",
        "\n",
        "expenses(data)"
      ],
      "metadata": {
        "colab": {
          "base_uri": "https://localhost:8080/"
        },
        "id": "3l9PyzI7SWyZ",
        "outputId": "866bca0b-b892-4cc5-9e31-801a04d75c92"
      },
      "execution_count": 5,
      "outputs": [
        {
          "output_type": "stream",
          "name": "stdout",
          "text": [
            "[100, 125, 345, 655, 200]\n",
            "Total expenses: 1425\n"
          ]
        }
      ]
    },
    {
      "cell_type": "markdown",
      "source": [
        "#Задача 4\n",
        "Даны два списка.\n",
        "\n",
        "Дата покупки"
      ],
      "metadata": {
        "id": "bnJBPkOVSYwx"
      }
    },
    {
      "cell_type": "code",
      "source": [
        "['2021-09-14', '2021-12-15', '2021-09-08', '2021-12-05', '2021-10-09', '2021-09-30', '2021-12-22', '2021-11-29', '2021-12-24', '2021-11-26', '2021-10-27', '2021-12-18', '2021-11-09', '2021-11-23', '2021-09-27', '2021-10-02', '2021-12-27', '2021-09-20', '2021-12-13', '2021-11-01', '2021-11-09', '2021-12-06', '2021-12-08', '2021-10-09', '2021-10-31', '2021-09-30', '2021-11-09', '2021-12-13', '2021-10-26', '2021-12-09']"
      ],
      "metadata": {
        "id": "6GJlKPShSnqy"
      },
      "execution_count": null,
      "outputs": []
    },
    {
      "cell_type": "markdown",
      "source": [
        "Cумма покупок по датам"
      ],
      "metadata": {
        "id": "fRSRNbCtSvv1"
      }
    },
    {
      "cell_type": "code",
      "source": [
        "[1270, 8413, 9028, 3703, 5739, 4095, 295, 4944, 5723, 3701, 4471, 651, 7037, 4274, 6275, 4988, 6930, 2971, 6592, 2004, 2822, 519, 3406, 2732, 5015, 2008, 316, 6333, 5700, 2887]"
      ],
      "metadata": {
        "id": "2YLi76YrS0NJ"
      },
      "execution_count": null,
      "outputs": []
    },
    {
      "cell_type": "markdown",
      "source": [
        "#4.1\n",
        "Найдите, какая выручка у компании в ноябре Используйте list comprehensions"
      ],
      "metadata": {
        "id": "gCesSgRIS5Kr"
      }
    },
    {
      "cell_type": "code",
      "source": [
        "date = ['2021-09-14', '2021-12-15', '2021-09-08', '2021-12-05', '2021-10-09',\n",
        "        '2021-09-30', '2021-12-22', '2021-11-29', '2021-12-24', '2021-11-26',\n",
        "        '2021-10-27', '2021-12-18', '2021-11-09', '2021-11-23', '2021-09-27',\n",
        "        '2021-10-02', '2021-12-27', '2021-09-20', '2021-12-13', '2021-11-01',\n",
        "        '2021-11-09', '2021-12-06', '2021-12-08', '2021-10-09', '2021-10-31',\n",
        "        '2021-09-30', '2021-11-09', '2021-12-13', '2021-10-26', '2021-12-09']\n",
        "amount = [1270, 8413, 9028, 3703, 5739, 4095, 295, 4944, 5723, 3701,\n",
        "        4471, 651, 7037, 4274, 6275, 4988, 6930, 2971, 6592, 2004,\n",
        "        2822, 519, 3406, 2732, 5015, 2008, 316, 6333, 5700, 2887]"
      ],
      "metadata": {
        "id": "G_7rJ6jUS9-i"
      },
      "execution_count": 14,
      "outputs": []
    },
    {
      "cell_type": "code",
      "source": [
        "def november(data1: list, data2: list) -> list:\n",
        "\n",
        "    new_data = []\n",
        "\n",
        "    for i in range(len(data1)-1):\n",
        "        if '-11-' in data1[i]:\n",
        "            new_data.append(data2[i])\n",
        "\n",
        "    return new_data"
      ],
      "metadata": {
        "id": "nHeqU_tGTA7Y"
      },
      "execution_count": 15,
      "outputs": []
    },
    {
      "cell_type": "code",
      "source": [
        "print(november(date, amount))\n",
        "print(f'Profit: {sum(november(date, amount))}')"
      ],
      "metadata": {
        "colab": {
          "base_uri": "https://localhost:8080/"
        },
        "id": "liJvjE5XTEVD",
        "outputId": "02f2163c-62a3-4fc4-bba2-8d3e9d119771"
      },
      "execution_count": 16,
      "outputs": [
        {
          "output_type": "stream",
          "name": "stdout",
          "text": [
            "[4944, 3701, 7037, 4274, 2004, 2822, 316]\n",
            "Profit: 25098\n"
          ]
        }
      ]
    },
    {
      "cell_type": "code",
      "source": [
        "print([amount[i] for i in range(0, len(date)-1) if \"-11\" in date[i]])\n",
        "print(f'Profit: {sum([amount[i] for i in range(len(date)-1) if \"-11\" in date[i]])}')"
      ],
      "metadata": {
        "colab": {
          "base_uri": "https://localhost:8080/"
        },
        "id": "4n9R7Zg3TIJ3",
        "outputId": "6898cfd8-a2be-4436-9b6e-cf90cf8d153f"
      },
      "execution_count": 17,
      "outputs": [
        {
          "output_type": "stream",
          "name": "stdout",
          "text": [
            "[4944, 3701, 7037, 4274, 2004, 2822, 316]\n",
            "Profit: 25098\n"
          ]
        }
      ]
    },
    {
      "cell_type": "markdown",
      "source": [
        "#Задача 4.2\n",
        "Найдите выручку компании в зависимости от месяца Для этого напишите функцию, которая на вход принимает список с датами и список с выручкой, а на выходе словарь, где ключи - это месяцы, а значения - это выручка. Используйте аннотирование типов."
      ],
      "metadata": {
        "id": "RKuQjFDkTQ0e"
      }
    },
    {
      "cell_type": "code",
      "source": [
        "def profits(date: list, amount: list) -> dict:\n",
        "\n",
        "    profits = {}\n",
        "\n",
        "    for i in range(len(date)):\n",
        "\n",
        "        if date[i].split('-')[1] in profits.keys():\n",
        "            profits[date[i].split('-')[1]] += amount[i]\n",
        "        else:\n",
        "            profits[date[i].split('-')[1]] = amount[i]\n",
        "\n",
        "    return profits\n",
        "\n",
        "print(profits(date, amount))"
      ],
      "metadata": {
        "colab": {
          "base_uri": "https://localhost:8080/"
        },
        "id": "LvDa1j-cVyUV",
        "outputId": "3032562a-495e-4483-bb46-42afbca56d04"
      },
      "execution_count": 28,
      "outputs": [
        {
          "output_type": "stream",
          "name": "stdout",
          "text": [
            "{'09': 25647, '12': 45452, '10': 28645, '11': 25098}\n"
          ]
        }
      ]
    }
  ]
}